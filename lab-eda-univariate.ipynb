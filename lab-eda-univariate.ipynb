{
 "cells": [
  {
   "cell_type": "code",
   "execution_count": null,
   "id": "56a746dd-a908-4075-8847-18f60fe64cda",
   "metadata": {},
   "outputs": [],
   "source": [
    "import pandas as pd\n",
    "import plotly.express as px\n",
    "import numpy as np\n",
    "import matplotlib.pyplot as plt\n",
    "\n",
    "%matplotlib inline\n",
    "\n",
    "pd.options.display.max_columns = 500"
   ]
  },
  {
   "cell_type": "code",
   "execution_count": null,
   "id": "22885d71-5640-415f-a55c-fa119259ebf8",
   "metadata": {},
   "outputs": [],
   "source": [
    "# Loading  Amazon UK product dataset which provides information on product categories,\n",
    "# brands, prices, ratings, and more from from Amazon UK.\n",
    "df = pd.read_csv(r\"C:\\Users\\Tijana&Ivan\\Desktop\\IRON_HACK_PT_DATA_ANALYTICS\\Week_12\\Labs\\archive\\amz_uk_price_prediction_dataset.csv\")"
   ]
  },
  {
   "cell_type": "code",
   "execution_count": null,
   "id": "5754b0b3-9e8a-4724-9249-845483ea05f7",
   "metadata": {},
   "outputs": [],
   "source": [
    "display(df.head)"
   ]
  },
  {
   "cell_type": "code",
   "execution_count": null,
   "id": "d1333fef-da5e-4455-95e6-c138175fe6bf",
   "metadata": {},
   "outputs": [],
   "source": [
    "df.shape"
   ]
  },
  {
   "cell_type": "code",
   "execution_count": null,
   "id": "b9336759-04d4-4ba4-ac77-463c4a8ae7fa",
   "metadata": {},
   "outputs": [],
   "source": [
    "df.dtypes"
   ]
  },
  {
   "cell_type": "code",
   "execution_count": null,
   "id": "9a4b6e89-8516-45be-b8c3-48d6557a3dc1",
   "metadata": {},
   "outputs": [],
   "source": [
    "# Checking for missing data\n",
    "df.isnull().sum().sort_values(ascending=False)"
   ]
  },
  {
   "cell_type": "code",
   "execution_count": null,
   "id": "1372d841-a201-4cc9-a313-4c84a853011d",
   "metadata": {},
   "outputs": [],
   "source": [
    "# Removing the \"Id\" column from the dataframe\n",
    "df.drop(\"uid\", inplace=True, axis=1)"
   ]
  },
  {
   "cell_type": "code",
   "execution_count": null,
   "id": "d0822bd0-29f8-4c7b-958f-9743d0ea5b41",
   "metadata": {},
   "outputs": [],
   "source": [
    "df.dtypes"
   ]
  },
  {
   "cell_type": "code",
   "execution_count": null,
   "id": "4625bab9-8c46-4788-a707-df14cd743d67",
   "metadata": {},
   "outputs": [],
   "source": [
    "# Generatting frequency table for the product category\n",
    "frequency_table= df[\"category\"].value_counts()\n",
    "proportion_table = df['category'].value_counts(normalize=True)\n",
    "print(\"\\n Frequency table for the product category:\")\n",
    "print(frequency_table)\n",
    "print(f\"\\n Proportion of each unique value: \\n\\n {proportion_table}\")"
   ]
  },
  {
   "cell_type": "code",
   "execution_count": null,
   "id": "c9be4192-b63a-4944-822c-b018d0ad6bb4",
   "metadata": {},
   "outputs": [],
   "source": [
    "most_listed_categories = frequency_table.head(5)\n",
    "print(f\"\\nTop 5 Most Listed Product Categories:\\n\\n {most_listed_categories}\")"
   ]
  },
  {
   "cell_type": "code",
   "execution_count": null,
   "id": "128f46cd-eecd-4223-a7b7-694a92acb2de",
   "metadata": {},
   "outputs": [],
   "source": [
    "fig=px.histogram(x=most_listed_categories.index, y=most_listed_categories.values)\n",
    "fig.show()"
   ]
  },
  {
   "cell_type": "code",
   "execution_count": null,
   "id": "42a077eb-89f1-4811-baf6-c7904c8aec12",
   "metadata": {},
   "outputs": [],
   "source": [
    "fig = px.pie(values=most_listed_categories.values, \n",
    "             names=most_listed_categories.index, \n",
    "             title='Top 5 Most Listed Product Categories')\n",
    "fig.show()"
   ]
  },
  {
   "cell_type": "markdown",
   "id": "8c1b33de-b791-4c35-915e-3938f84da61f",
   "metadata": {},
   "source": [
    "From the given graphs, we can see the great dominance of the \"Sport & Outdoors\" category, while the other categories are evenly distributed."
   ]
  },
  {
   "cell_type": "code",
   "execution_count": null,
   "id": "365ec45b-680b-46a3-be54-d01a0c3c3660",
   "metadata": {},
   "outputs": [],
   "source": [
    "# Summary statistics for the dataset\n",
    "df.describe().round(2)"
   ]
  },
  {
   "cell_type": "code",
   "execution_count": null,
   "id": "dec0d14f-dae7-4adc-bdd9-ef94a447d002",
   "metadata": {},
   "outputs": [],
   "source": [
    "mean_price = df['price'].mean()\n",
    "median_price = df['price'].median()\n",
    "mode_price = df['price'].mode()[0]"
   ]
  },
  {
   "cell_type": "code",
   "execution_count": null,
   "id": "db888089-c2b9-4ee9-8283-cfc6bc5429f0",
   "metadata": {},
   "outputs": [],
   "source": [
    "print(f\"mean_price: {mean_price}\")\n",
    "print(f\"median_price: {median_price}\")\n",
    "print(f\"mode_price: {mode_price}\")"
   ]
  },
  {
   "cell_type": "markdown",
   "id": "f38c2933-0e26-49d4-a104-326615995986",
   "metadata": {},
   "source": [
    "The average price of the product is 89.24 and is almost 10 times higher than the most commonly represented one\n",
    "the price of the product. We can conclude that there are some extremes that significantly raise the average price"
   ]
  },
  {
   "cell_type": "code",
   "execution_count": null,
   "id": "00d81ade-7d33-4ad8-bbd0-c8de5d215e0e",
   "metadata": {},
   "outputs": [],
   "source": [
    "variance_price = df['price'].var()\n",
    "std_dev_price = df['price'].std()\n",
    "min_price = df['price'].min()\n",
    "max_price = df['price'].max()\n",
    "range_price = max_price - min_price\n",
    "quantiles_price = df['price'].quantile([0.25, 0.5, 0.75])\n",
    "\n",
    "print(f\"variance_price: {variance_price}\")\n",
    "print(f\"std_dev_price: {std_dev_price}\")\n",
    "print(f\"range_price: {range_price}\")\n",
    "print(f\"quantiles_price:\\n\\n {quantiles_price}\")"
   ]
  },
  {
   "cell_type": "markdown",
   "id": "a4c766cc-2c91-402e-a635-f19273b04de7",
   "metadata": {},
   "source": [
    "From this calculations we can conclude that there is a significant spread in product prices based on \n",
    "the large range, relatively high standard deviation, and substantial variance.\n",
    "The large range compared to the IQR could imply the presence of some extreme values."
   ]
  },
  {
   "cell_type": "code",
   "execution_count": null,
   "id": "b32f93c7-f953-4301-8bd2-eb3ef59dd609",
   "metadata": {},
   "outputs": [],
   "source": [
    "df['price'] = df['price'].astype('float32')"
   ]
  },
  {
   "cell_type": "code",
   "execution_count": null,
   "id": "ff05256f-b2ee-43a2-9502-cf1d1f947b96",
   "metadata": {},
   "outputs": [],
   "source": [
    "# Plotting the histogram\n",
    "plt.hist(df['price'], bins=30, edgecolor='k')\n",
    "plt.title('Distribution of Product Prices')\n",
    "plt.xlabel('Price')\n",
    "plt.ylabel('Count')\n",
    "plt.show()"
   ]
  },
  {
   "cell_type": "code",
   "execution_count": null,
   "id": "f471ec06-8c55-4dbe-8370-4fa298e0490f",
   "metadata": {},
   "outputs": [],
   "source": [
    "# Plotting a histogram for the 'Price' column of the 'data' dataframe\n",
    "px.histogram(df, x=\"price\", nbins=30)"
   ]
  },
  {
   "cell_type": "markdown",
   "id": "2eed9ff5-7c34-48ae-b6e7-9d6edfe231cc",
   "metadata": {},
   "source": [
    "From this graph i can see that majority price range is between 0 to 2500, only 8125 articles ranges between 2500 and 7500"
   ]
  },
  {
   "cell_type": "code",
   "execution_count": null,
   "id": "ec5c1c74-4082-4a16-9af1-7f1a3c4231ff",
   "metadata": {},
   "outputs": [],
   "source": [
    "# Plotting the box plot using Matplotlib\n",
    "plt.boxplot(df['price'])\n",
    "plt.title('Box Plot of Product Prices')\n",
    "plt.ylabel('Price')\n",
    "plt.show()"
   ]
  },
  {
   "cell_type": "code",
   "execution_count": null,
   "id": "824c9d52-e07e-44c3-bc2f-5fec9925c859",
   "metadata": {},
   "outputs": [],
   "source": [
    "mean_rating = df['stars'].mean()\n",
    "median_rating = df['stars'].median()\n",
    "mode_rating = df['stars'].mode()[0]\n",
    "\n",
    "print(f\"Mean Rating: {mean_rating}\")\n",
    "print(f\"Median Rating: {median_rating}\")\n",
    "print(f\"Mode Rating: {mode_rating}\")"
   ]
  },
  {
   "cell_type": "code",
   "execution_count": null,
   "id": "125d72b5-94fa-420f-837e-1e6ffaa10d90",
   "metadata": {},
   "outputs": [],
   "source": [
    "df['stars'].value_counts()"
   ]
  },
  {
   "cell_type": "markdown",
   "id": "be0487d7-0ab6-4037-9514-2f2540c47f07",
   "metadata": {},
   "source": [
    "Most common rating is 0.0 and average rating is 2.153"
   ]
  },
  {
   "cell_type": "code",
   "execution_count": null,
   "id": "e13ec8d3-440a-42ce-a7c5-644d01dac114",
   "metadata": {},
   "outputs": [],
   "source": [
    "variance_rating = df['stars'].var()\n",
    "std_dev_rating = df['stars'].std()\n",
    "min_rating = df['stars'].min()\n",
    "max_rating = df['stars'].max()\n",
    "range_rating = max_rating - min_rating\n",
    "quantiles_rating = df['stars'].quantile([0.25, 0.5, 0.75])\n",
    "\n",
    "print(f\"variance_rating: {variance_rating}\")\n",
    "print(f\"std_dev_rating: {std_dev_rating}\")\n",
    "print(f\"range_rating: {range_rating}\")\n",
    "print(f\"quantiles_rating:\\n\\n {quantiles_rating}\")"
   ]
  },
  {
   "cell_type": "code",
   "execution_count": null,
   "id": "ad94d0e3-73dc-45c5-ab43-f918533f2cf5",
   "metadata": {},
   "outputs": [],
   "source": [
    "skewness_rating = df['stars'].skew()\n",
    "kurtosis_rating = df['stars'].kurtosis()\n",
    "print(f\"skewness_rating: {skewness_rating}\")\n",
    "print(f\"kurtosis_rating: {kurtosis_rating}\")"
   ]
  },
  {
   "cell_type": "markdown",
   "id": "3b698385-f199-4a11-b81a-96fd85d814b2",
   "metadata": {},
   "source": [
    "Ratings are not normally distributed and they based on the kurtosis value, they lean towards lower values."
   ]
  },
  {
   "cell_type": "code",
   "execution_count": null,
   "id": "87032379-d8c2-45ba-8652-ed74eaab4f0a",
   "metadata": {},
   "outputs": [],
   "source": [
    "# Plot a histogram to visualize the distribution of product ratings\n",
    "px.histogram(df, x=\"stars\", nbins=30)"
   ]
  },
  {
   "cell_type": "markdown",
   "id": "23f24beb-2bd9-4c4d-bc1c-2d745b56e7eb",
   "metadata": {},
   "source": [
    "From the histogram we can see that grade 0 is the most common grade with over 50% of\n",
    "of all data, indicating that something is wrong with that entry.\n",
    "Other data are realistically distributed if I compare with some other sources of ratings.\n"
   ]
  },
  {
   "cell_type": "code",
   "execution_count": null,
   "id": "7b0ada74-62f9-476f-9a8c-e4c7aff6d99e",
   "metadata": {},
   "outputs": [],
   "source": []
  }
 ],
 "metadata": {
  "kernelspec": {
   "display_name": "Python 3 (ipykernel)",
   "language": "python",
   "name": "python3"
  },
  "language_info": {
   "codemirror_mode": {
    "name": "ipython",
    "version": 3
   },
   "file_extension": ".py",
   "mimetype": "text/x-python",
   "name": "python",
   "nbconvert_exporter": "python",
   "pygments_lexer": "ipython3",
   "version": "3.12.7"
  }
 },
 "nbformat": 4,
 "nbformat_minor": 5
}
